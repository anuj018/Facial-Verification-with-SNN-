{
 "cells": [
  {
   "cell_type": "code",
   "execution_count": null,
   "id": "56b14504",
   "metadata": {},
   "outputs": [],
   "source": [
    "\"\"\"\n",
    "The Siamese Neural Network architecture is commonly used for tasks like face recognition, signature verification, and similarity-based tasks.\n",
    "L1 distance between the two sets of feature embeddings. The L1 distance between two vectors (x1, x2, ..., xn) and (y1, y2, ..., yn) is computed as:\n",
    "\n",
    "L1(x, y) = |x1 - y1| + |x2 - y2| + ... + |xn - yn|\n",
    "\"\"\""
   ]
  },
  {
   "cell_type": "code",
   "execution_count": 1,
   "id": "2ec25286",
   "metadata": {},
   "outputs": [],
   "source": [
    "# !pip install -r requirements.txt\n",
    "# !pip uninstall -y matplotlib && pip install matplotlib==3.a\n"
   ]
  },
  {
   "cell_type": "code",
   "execution_count": 2,
   "id": "cefe05cf",
   "metadata": {},
   "outputs": [],
   "source": [
    "import cv2\n",
    "import os \n",
    "import random \n",
    "import numpy as np\n",
    "from matplotlib import pyplot as plt"
   ]
  },
  {
   "cell_type": "code",
   "execution_count": 3,
   "id": "dbcd443d",
   "metadata": {},
   "outputs": [
    {
     "name": "stderr",
     "output_type": "stream",
     "text": [
      "2023-10-03 11:14:40.089769: W tensorflow/stream_executor/platform/default/dso_loader.cc:60] Could not load dynamic library 'libcudart.so.11.0'; dlerror: libcudart.so.11.0: cannot open shared object file: No such file or directory; LD_LIBRARY_PATH: /localdisk/amanojku/personal_projects/FacialRecognition/face_rec/lib/python3.8/site-packages/cv2/../../lib64:\n",
      "2023-10-03 11:14:40.089792: I tensorflow/stream_executor/cuda/cudart_stub.cc:29] Ignore above cudart dlerror if you do not have a GPU set up on your machine.\n"
     ]
    }
   ],
   "source": [
    "import tensorflow as tf"
   ]
  },
  {
   "cell_type": "code",
   "execution_count": 4,
   "id": "581b639d",
   "metadata": {},
   "outputs": [],
   "source": [
    "#import tensorflow dependencies -> Tensorflow Functional API \n",
    "\n",
    "from tensorflow.keras.models import Model, load_model\n",
    "from tensorflow.keras.layers import Layer, InputLayer, Conv2D, Dense, MaxPooling2D, Flatten, Input"
   ]
  },
  {
   "cell_type": "markdown",
   "id": "6698c606",
   "metadata": {},
   "source": [
    "### 1.3 Set GPU Growth "
   ]
  },
  {
   "cell_type": "code",
   "execution_count": 5,
   "id": "18420505",
   "metadata": {},
   "outputs": [
    {
     "name": "stderr",
     "output_type": "stream",
     "text": [
      "2023-10-03 11:14:41.151200: I tensorflow/compiler/jit/xla_cpu_device.cc:41] Not creating XLA devices, tf_xla_enable_xla_devices not set\n",
      "2023-10-03 11:14:41.152879: I tensorflow/stream_executor/platform/default/dso_loader.cc:49] Successfully opened dynamic library libcuda.so.1\n",
      "2023-10-03 11:14:41.236011: I tensorflow/core/common_runtime/gpu/gpu_device.cc:1720] Found device 0 with properties: \n",
      "pciBusID: 0000:03:00.0 name: NVIDIA GeForce GTX 1080 computeCapability: 6.1\n",
      "coreClock: 1.7715GHz coreCount: 20 deviceMemorySize: 7.92GiB deviceMemoryBandwidth: 298.32GiB/s\n",
      "2023-10-03 11:14:41.236216: W tensorflow/stream_executor/platform/default/dso_loader.cc:60] Could not load dynamic library 'libcudart.so.11.0'; dlerror: libcudart.so.11.0: cannot open shared object file: No such file or directory; LD_LIBRARY_PATH: /localdisk/amanojku/personal_projects/FacialRecognition/face_rec/lib/python3.8/site-packages/cv2/../../lib64:\n",
      "2023-10-03 11:14:41.236381: W tensorflow/stream_executor/platform/default/dso_loader.cc:60] Could not load dynamic library 'libcublas.so.11'; dlerror: libcublas.so.11: cannot open shared object file: No such file or directory; LD_LIBRARY_PATH: /localdisk/amanojku/personal_projects/FacialRecognition/face_rec/lib/python3.8/site-packages/cv2/../../lib64:\n",
      "2023-10-03 11:14:41.236534: W tensorflow/stream_executor/platform/default/dso_loader.cc:60] Could not load dynamic library 'libcublasLt.so.11'; dlerror: libcublasLt.so.11: cannot open shared object file: No such file or directory; LD_LIBRARY_PATH: /localdisk/amanojku/personal_projects/FacialRecognition/face_rec/lib/python3.8/site-packages/cv2/../../lib64:\n",
      "2023-10-03 11:14:41.236692: W tensorflow/stream_executor/platform/default/dso_loader.cc:60] Could not load dynamic library 'libcufft.so.10'; dlerror: libcufft.so.10: cannot open shared object file: No such file or directory; LD_LIBRARY_PATH: /localdisk/amanojku/personal_projects/FacialRecognition/face_rec/lib/python3.8/site-packages/cv2/../../lib64:\n",
      "2023-10-03 11:14:41.236843: W tensorflow/stream_executor/platform/default/dso_loader.cc:60] Could not load dynamic library 'libcurand.so.10'; dlerror: libcurand.so.10: cannot open shared object file: No such file or directory; LD_LIBRARY_PATH: /localdisk/amanojku/personal_projects/FacialRecognition/face_rec/lib/python3.8/site-packages/cv2/../../lib64:\n",
      "2023-10-03 11:14:41.236994: W tensorflow/stream_executor/platform/default/dso_loader.cc:60] Could not load dynamic library 'libcusolver.so.10'; dlerror: libcusolver.so.10: cannot open shared object file: No such file or directory; LD_LIBRARY_PATH: /localdisk/amanojku/personal_projects/FacialRecognition/face_rec/lib/python3.8/site-packages/cv2/../../lib64:\n",
      "2023-10-03 11:14:41.237143: W tensorflow/stream_executor/platform/default/dso_loader.cc:60] Could not load dynamic library 'libcusparse.so.11'; dlerror: libcusparse.so.11: cannot open shared object file: No such file or directory; LD_LIBRARY_PATH: /localdisk/amanojku/personal_projects/FacialRecognition/face_rec/lib/python3.8/site-packages/cv2/../../lib64:\n",
      "2023-10-03 11:14:41.237293: W tensorflow/stream_executor/platform/default/dso_loader.cc:60] Could not load dynamic library 'libcudnn.so.8'; dlerror: libcudnn.so.8: cannot open shared object file: No such file or directory; LD_LIBRARY_PATH: /localdisk/amanojku/personal_projects/FacialRecognition/face_rec/lib/python3.8/site-packages/cv2/../../lib64:\n",
      "2023-10-03 11:14:41.237318: W tensorflow/core/common_runtime/gpu/gpu_device.cc:1757] Cannot dlopen some GPU libraries. Please make sure the missing libraries mentioned above are installed properly if you would like to use GPU. Follow the guide at https://www.tensorflow.org/install/gpu for how to download and setup the required libraries for your platform.\n",
      "Skipping registering GPU devices...\n"
     ]
    }
   ],
   "source": [
    "#Avoid OOM Errors by preventing Tensorflow from consuming all the memory registers of the GPU\n",
    "gpus = tf.config.experimental.list_physical_devices('GPU')"
   ]
  },
  {
   "cell_type": "code",
   "execution_count": 6,
   "id": "4514530c",
   "metadata": {},
   "outputs": [
    {
     "data": {
      "text/plain": [
       "[]"
      ]
     },
     "execution_count": 6,
     "metadata": {},
     "output_type": "execute_result"
    }
   ],
   "source": [
    "gpus"
   ]
  },
  {
   "cell_type": "code",
   "execution_count": 7,
   "id": "a78c901c",
   "metadata": {},
   "outputs": [],
   "source": [
    "ANC_DIR = os.path.join('data','anchor')\n",
    "POS_DIR = os.path.join('data','pos')\n",
    "NEG_DIR = os.path.join('data','neg')"
   ]
  },
  {
   "cell_type": "code",
   "execution_count": 8,
   "id": "58c58657",
   "metadata": {},
   "outputs": [
    {
     "data": {
      "text/plain": [
       "'data/anchor'"
      ]
     },
     "execution_count": 8,
     "metadata": {},
     "output_type": "execute_result"
    }
   ],
   "source": [
    "ANC_DIR"
   ]
  },
  {
   "cell_type": "code",
   "execution_count": 9,
   "id": "3230fe72",
   "metadata": {},
   "outputs": [
    {
     "name": "stdout",
     "output_type": "stream",
     "text": [
      "DIRECTORY ALREADY EXISTS\n"
     ]
    }
   ],
   "source": [
    "if not os.path.exists(ANC_DIR):\n",
    "    os.makedirs(ANC_DIR)\n",
    "    os.makedirs(POS_DIR)\n",
    "    os.makedirs(NEG_DIR)\n",
    "else:\n",
    "    print(\"DIRECTORY ALREADY EXISTS\")"
   ]
  },
  {
   "cell_type": "markdown",
   "id": "d150ea84",
   "metadata": {},
   "source": [
    "## 2 DATA COLLECTION"
   ]
  },
  {
   "cell_type": "markdown",
   "id": "a1b10229",
   "metadata": {},
   "source": [
    "### Labeled Faces in the wild "
   ]
  },
  {
   "cell_type": "code",
   "execution_count": 10,
   "id": "aff447ce",
   "metadata": {},
   "outputs": [],
   "source": [
    "for directory in os.listdir('lfw'):\n",
    "    for file in os.listdir(os.path.join('lfw',directory)):\n",
    "        EXISTING_PATH = os.path.join('lfw',directory,file)\n",
    "        NEW_PATH = os.path.join(NEG_DIR,file)\n",
    "        os.replace(EXISTING_PATH,NEW_PATH)"
   ]
  },
  {
   "cell_type": "markdown",
   "id": "1aba4302",
   "metadata": {},
   "source": [
    "### Positive Images"
   ]
  },
  {
   "cell_type": "code",
   "execution_count": 11,
   "id": "d201d7b4",
   "metadata": {},
   "outputs": [],
   "source": [
    "# vid = cv2.VideoCapture(0)\n",
    "# while vid.isOpened():\n",
    "#     ret, frame = vid.read()\n",
    "#     frame = frame[150:400,250:500,:]\n",
    "#     cv2.imshow('Image Collection',frame)\n",
    "#     if cv2.waitKey(1) & 0XFF == ord('q'):\n",
    "#         break\n",
    "#     if cv2.waitKey(1) & 0XFF == ord('a'):\n",
    "#         image_path = './anchor/image_{}.jpg'.format(uuid.uuid1())\n",
    "#         cv2.imwrite(image_path,frame,)\n",
    "#     if cv2.waitKey(1) & 0XFF == ord('p'):\n",
    "#         image_path = './positive/image_{}.jpg'.format(uuid.uuid1())\n",
    "#         cv2.imwrite(image_path,frame,)\n",
    "# vid.release()\n",
    "# cv2.destroyAllWindows()"
   ]
  },
  {
   "cell_type": "code",
   "execution_count": 12,
   "id": "8b98893c",
   "metadata": {},
   "outputs": [
    {
     "name": "stdout",
     "output_type": "stream",
     "text": [
      "image_46b3e107-5346-11ee-a73d-98af65a5b495.jpg\r\n",
      "image_478b1aeb-5346-11ee-add5-98af65a5b495.jpg\r\n",
      "image_48b9a5e6-5346-11ee-9c8c-98af65a5b495.jpg\r\n",
      "image_490e6635-5346-11ee-87ed-98af65a5b495.jpg\r\n",
      "image_4988180a-5346-11ee-b834-98af65a5b495.jpg\r\n",
      "image_49d69fef-5346-11ee-bc13-98af65a5b495.jpg\r\n",
      "image_4a9c8258-5346-11ee-9281-98af65a5b495.jpg\r\n",
      "image_4b35246d-5346-11ee-a8ce-98af65a5b495.jpg\r\n",
      "image_4b5e8908-5346-11ee-8722-98af65a5b495.jpg\r\n",
      "image_4b87bc65-5346-11ee-9d58-98af65a5b495.jpg\r\n",
      "image_4bc9ffec-5346-11ee-a622-98af65a5b495.jpg\r\n",
      "image_4c1d3a49-5346-11ee-b340-98af65a5b495.jpg\r\n",
      "image_4c94cf92-5346-11ee-af57-98af65a5b495.jpg\r\n",
      "image_4cb90a2d-5346-11ee-9093-98af65a5b495.jpg\r\n",
      "image_4cfe5794-5346-11ee-b08c-98af65a5b495.jpg\r\n",
      "image_4d646cdb-5346-11ee-8795-98af65a5b495.jpg\r\n",
      "image_4daaa824-5346-11ee-9b0a-98af65a5b495.jpg\r\n",
      "image_4e564916-5346-11ee-a10b-98af65a5b495.jpg\r\n",
      "image_4ec8e1cb-5346-11ee-904e-98af65a5b495.jpg\r\n",
      "image_4ee7e0a4-5346-11ee-b56e-98af65a5b495.jpg\r\n",
      "image_4faa94fd-5346-11ee-8364-98af65a5b495.jpg\r\n",
      "image_4ff293cf-5346-11ee-8354-98af65a5b495.jpg\r\n",
      "image_50763884-5346-11ee-8d3e-98af65a5b495.jpg\r\n",
      "image_509f1c00-5346-11ee-bdb9-98af65a5b495.jpg\r\n",
      "image_50f0f434-5346-11ee-9623-98af65a5b495.jpg\r\n",
      "image_5112de6d-5346-11ee-8648-98af65a5b495.jpg\r\n",
      "image_5278f184-5346-11ee-9431-98af65a5b495.jpg\r\n",
      "image_52970895-5346-11ee-8616-98af65a5b495.jpg\r\n",
      "image_52b50d90-5346-11ee-936b-98af65a5b495.jpg\r\n",
      "image_52d1ccd7-5346-11ee-9776-98af65a5b495.jpg\r\n"
     ]
    }
   ],
   "source": [
    "!ls data/pos\n",
    "\n",
    "\n"
   ]
  },
  {
   "cell_type": "code",
   "execution_count": 13,
   "id": "49545c22",
   "metadata": {},
   "outputs": [
    {
     "name": "stderr",
     "output_type": "stream",
     "text": [
      "2023-10-03 11:14:50.297301: I tensorflow/core/platform/cpu_feature_guard.cc:142] This TensorFlow binary is optimized with oneAPI Deep Neural Network Library (oneDNN) to use the following CPU instructions in performance-critical operations:  AVX2 FMA\n",
      "To enable them in other operations, rebuild TensorFlow with the appropriate compiler flags.\n",
      "2023-10-03 11:14:50.298225: I tensorflow/compiler/jit/xla_gpu_device.cc:99] Not creating XLA devices, tf_xla_enable_xla_devices not set\n",
      "2023-10-03 11:14:50.298256: I tensorflow/core/common_runtime/gpu/gpu_device.cc:1261] Device interconnect StreamExecutor with strength 1 edge matrix:\n",
      "2023-10-03 11:14:50.298263: I tensorflow/core/common_runtime/gpu/gpu_device.cc:1267]      \n"
     ]
    }
   ],
   "source": [
    "negative = tf.data.Dataset.list_files(NEG_DIR+'/*.jpg').take(50)\n",
    "positive = tf.data.Dataset.list_files(POS_DIR+'/*.jpg').take(50)\n",
    "anchor = tf.data.Dataset.list_files(ANC_DIR+'/*.jpg').take(50)"
   ]
  },
  {
   "cell_type": "code",
   "execution_count": 14,
   "id": "ad0bd5ed",
   "metadata": {},
   "outputs": [
    {
     "data": {
      "text/plain": [
       "<TakeDataset shapes: (), types: tf.string>"
      ]
     },
     "execution_count": 14,
     "metadata": {},
     "output_type": "execute_result"
    }
   ],
   "source": [
    "negative"
   ]
  },
  {
   "cell_type": "markdown",
   "id": "a40df862",
   "metadata": {},
   "source": [
    "### Data Preprocessing \n",
    "loading\n",
    "scaling and resizing to make gradient descent faster "
   ]
  },
  {
   "cell_type": "code",
   "execution_count": 15,
   "id": "37c2657a",
   "metadata": {},
   "outputs": [],
   "source": [
    "def preprocess(file_path):\n",
    "    \"\"\"\n",
    "    Takes a tensforflow data file path as an input and use the map method \n",
    "    to preprocess the images\n",
    "    Turns our output image to a tensor datatye.\n",
    "    The Siamese Neural Network takes an image of a smaller shape. \n",
    "    \"\"\"\n",
    "    #read the image\n",
    "    byte_image = tf.io.read_file(file_path)\n",
    "    #load the image as a tensor\n",
    "    img = tf.io.decode_jpeg(byte_image)\n",
    "    img = tf.image.resize(img,(100,100))\n",
    "    img = img/255.0\n",
    "    return img\n",
    "\n",
    "def preprocess_twin(positive_file_path,negative_file_path,label):\n",
    "    return((preprocess(positive_file_path),preprocess(negative_file_path),label))"
   ]
  },
  {
   "cell_type": "markdown",
   "id": "7e62a6cc",
   "metadata": {},
   "source": [
    "### Create a Labelled Dataset "
   ]
  },
  {
   "cell_type": "code",
   "execution_count": 16,
   "id": "375161cd",
   "metadata": {},
   "outputs": [],
   "source": [
    "\"\"\"We take the tf datasets (positive anchor and negative that we created above) and we create a labeled dataset.\n",
    "When our model takes an anchor image and a positive image, it returns a 1 which would imply that our model has verified our identity\n",
    "Correspondingly,when we pass anchor+negative as input it returns a 0\"\"\"\n",
    "positives = tf.data.Dataset.zip((anchor,positive,tf.data.Dataset.from_tensor_slices(tf.ones(len(anchor)))))\n",
    "negatives = tf.data.Dataset.zip((anchor,negative,tf.data.Dataset.from_tensor_slices(tf.zeros(len(anchor)))))\n",
    "data = positives.concatenate(negatives)\n",
    "samples = data.as_numpy_iterator()"
   ]
  },
  {
   "cell_type": "code",
   "execution_count": 17,
   "id": "bba9b5db",
   "metadata": {},
   "outputs": [],
   "source": [
    "data = data.map(preprocess_twin)\n",
    "data = data.cache()\n",
    "data = data.shuffle(buffer_size=1024)\n",
    "samples = data.as_numpy_iterator()"
   ]
  },
  {
   "cell_type": "code",
   "execution_count": 18,
   "id": "007ea139",
   "metadata": {},
   "outputs": [
    {
     "name": "stderr",
     "output_type": "stream",
     "text": [
      "2023-10-03 11:14:51.142113: I tensorflow/compiler/mlir/mlir_graph_optimization_pass.cc:116] None of the MLIR optimization passes are enabled (registered 2)\n",
      "2023-10-03 11:14:51.163474: I tensorflow/core/platform/profile_utils/cpu_utils.cc:112] CPU Frequency: 3000145000 Hz\n"
     ]
    },
    {
     "data": {
      "text/plain": [
       "(array([[[0.8982843 , 0.8747549 , 0.73357844],\n",
       "         [0.8904412 , 0.87083334, 0.72181374],\n",
       "         [0.89215684, 0.872549  , 0.7235294 ],\n",
       "         ...,\n",
       "         [0.89191175, 0.8490196 , 0.7227941 ],\n",
       "         [0.89240193, 0.85318625, 0.7151961 ],\n",
       "         [0.89411765, 0.85490197, 0.7137255 ]],\n",
       " \n",
       "        [[0.8904412 , 0.8639706 , 0.73357844],\n",
       "         [0.8887255 , 0.8629902 , 0.7245098 ],\n",
       "         [0.8865196 , 0.8607843 , 0.7223039 ],\n",
       "         ...,\n",
       "         [0.8742647 , 0.84093136, 0.72132355],\n",
       "         [0.8840686 , 0.8495098 , 0.72181374],\n",
       "         [0.8892157 , 0.8546569 , 0.7245098 ]],\n",
       " \n",
       "        [[0.9017157 , 0.8656863 , 0.7519608 ],\n",
       "         [0.89240193, 0.85784316, 0.7360294 ],\n",
       "         [0.89240193, 0.85784316, 0.7296569 ],\n",
       "         ...,\n",
       "         [0.87647057, 0.8490196 , 0.74509805],\n",
       "         [0.86985296, 0.84093136, 0.73014706],\n",
       "         [0.87352943, 0.84411764, 0.72843134]],\n",
       " \n",
       "        ...,\n",
       " \n",
       "        [[0.18455882, 0.06838235, 0.0245098 ],\n",
       "         [0.2389706 , 0.10955882, 0.05759804],\n",
       "         [0.2747549 , 0.13063726, 0.06985294],\n",
       "         ...,\n",
       "         [0.04485294, 0.04289216, 0.05171569],\n",
       "         [0.05833333, 0.04607843, 0.05      ],\n",
       "         [0.06666667, 0.0629902 , 0.05514706]],\n",
       " \n",
       "        [[0.18529412, 0.06764706, 0.0245098 ],\n",
       "         [0.23235294, 0.09705883, 0.04803922],\n",
       "         [0.24387255, 0.10196079, 0.04117647],\n",
       "         ...,\n",
       "         [0.04117647, 0.03921569, 0.04607843],\n",
       "         [0.04191177, 0.03480392, 0.03651961],\n",
       "         [0.0375    , 0.0375    , 0.03553922]],\n",
       " \n",
       "        [[0.20122549, 0.07181372, 0.03651961],\n",
       "         [0.23333333, 0.09705883, 0.05955882],\n",
       "         [0.2252451 , 0.08382353, 0.0375    ],\n",
       "         ...,\n",
       "         [0.03627451, 0.0372549 , 0.05392157],\n",
       "         [0.0372549 , 0.03529412, 0.04460784],\n",
       "         [0.02965686, 0.03137255, 0.04117647]]], dtype=float32),\n",
       " array([[[0.0000000e+00, 0.0000000e+00, 0.0000000e+00],\n",
       "         [0.0000000e+00, 0.0000000e+00, 0.0000000e+00],\n",
       "         [0.0000000e+00, 0.0000000e+00, 0.0000000e+00],\n",
       "         ...,\n",
       "         [0.0000000e+00, 0.0000000e+00, 0.0000000e+00],\n",
       "         [0.0000000e+00, 0.0000000e+00, 0.0000000e+00],\n",
       "         [0.0000000e+00, 0.0000000e+00, 0.0000000e+00]],\n",
       " \n",
       "        [[0.0000000e+00, 0.0000000e+00, 0.0000000e+00],\n",
       "         [0.0000000e+00, 0.0000000e+00, 0.0000000e+00],\n",
       "         [0.0000000e+00, 0.0000000e+00, 0.0000000e+00],\n",
       "         ...,\n",
       "         [0.0000000e+00, 0.0000000e+00, 0.0000000e+00],\n",
       "         [0.0000000e+00, 0.0000000e+00, 0.0000000e+00],\n",
       "         [0.0000000e+00, 0.0000000e+00, 0.0000000e+00]],\n",
       " \n",
       "        [[0.0000000e+00, 0.0000000e+00, 0.0000000e+00],\n",
       "         [0.0000000e+00, 0.0000000e+00, 0.0000000e+00],\n",
       "         [0.0000000e+00, 0.0000000e+00, 0.0000000e+00],\n",
       "         ...,\n",
       "         [0.0000000e+00, 0.0000000e+00, 0.0000000e+00],\n",
       "         [0.0000000e+00, 0.0000000e+00, 0.0000000e+00],\n",
       "         [0.0000000e+00, 0.0000000e+00, 0.0000000e+00]],\n",
       " \n",
       "        ...,\n",
       " \n",
       "        [[3.7009805e-02, 2.6960785e-03, 0.0000000e+00],\n",
       "         [5.1176471e-01, 8.6519606e-02, 7.2303921e-02],\n",
       "         [7.1249998e-01, 8.7009802e-02, 1.1200980e-01],\n",
       "         ...,\n",
       "         [7.0906866e-01, 4.7720587e-01, 2.1078432e-01],\n",
       "         [7.1249998e-01, 4.7549018e-01, 2.0980392e-01],\n",
       "         [7.3186272e-01, 4.9362746e-01, 2.2794117e-01]],\n",
       " \n",
       "        [[1.0784314e-01, 2.4509805e-04, 0.0000000e+00],\n",
       "         [7.4338233e-01, 8.7499999e-02, 9.6568629e-02],\n",
       "         [9.3700981e-01, 1.5196078e-02, 5.9803922e-02],\n",
       "         ...,\n",
       "         [7.1593136e-01, 4.9044117e-01, 2.2671568e-01],\n",
       "         [7.2450978e-01, 4.9901959e-01, 2.3529412e-01],\n",
       "         [7.3700982e-01, 5.0563723e-01, 2.4289216e-01]],\n",
       " \n",
       "        [[3.8970590e-02, 5.8823531e-03, 0.0000000e+00],\n",
       "         [6.4803922e-01, 7.6470591e-02, 4.9019609e-02],\n",
       "         [9.8848039e-01, 7.4264705e-02, 6.8137258e-02],\n",
       "         ...,\n",
       "         [7.3455882e-01, 5.3651959e-01, 2.7843139e-01],\n",
       "         [7.7843136e-01, 5.7230395e-01, 3.1862745e-01],\n",
       "         [7.6078433e-01, 5.5269605e-01, 2.9926470e-01]]], dtype=float32),\n",
       " 0.0)"
      ]
     },
     "execution_count": 18,
     "metadata": {},
     "output_type": "execute_result"
    }
   ],
   "source": [
    "samples.next()"
   ]
  },
  {
   "cell_type": "code",
   "execution_count": 19,
   "id": "725dbabc",
   "metadata": {},
   "outputs": [],
   "source": [
    "samp = samples.next()"
   ]
  },
  {
   "cell_type": "code",
   "execution_count": 20,
   "id": "3958c54f",
   "metadata": {},
   "outputs": [
    {
     "data": {
      "text/plain": [
       "<matplotlib.image.AxesImage at 0x7f85d81b6ac0>"
      ]
     },
     "execution_count": 20,
     "metadata": {},
     "output_type": "execute_result"
    },
    {
     "data": {
      "image/png": "[encoded data removed]",
      "text/plain": [
       "<Figure size 640x480 with 1 Axes>"
      ]
     },
     "metadata": {},
     "output_type": "display_data"
    }
   ],
   "source": [
    "plt.imshow(samp[1])"
   ]
  },
  {
   "cell_type": "code",
   "execution_count": 21,
   "id": "a04789db",
   "metadata": {},
   "outputs": [
    {
     "data": {
      "text/plain": [
       "1.0"
      ]
     },
     "execution_count": 21,
     "metadata": {},
     "output_type": "execute_result"
    }
   ],
   "source": [
    "samp[2]"
   ]
  },
  {
   "cell_type": "code",
   "execution_count": 22,
   "id": "759cee46",
   "metadata": {},
   "outputs": [],
   "source": [
    "#Training partition \n",
    "train_data = data.take(round(len(data)*0.7))\n",
    "train_data = train_data.batch(4)\n",
    "train_data = train_data.prefetch(2)"
   ]
  },
  {
   "cell_type": "code",
   "execution_count": 23,
   "id": "63027255",
   "metadata": {},
   "outputs": [],
   "source": [
    "def make_embeddings():\n",
    "    inp = Input(shape = (100,100,3))\n",
    "    \n",
    "    #First Block  \n",
    "    c1 = Conv2D(64,(10,10),activation='relu')(inp)\n",
    "    m1 = MaxPooling2D( 64, (2,2), padding = 'same')(c1)\n",
    "    #Second Block \n",
    "    c2 = Conv2D(128,(7,7),activation = 'relu')(m1)\n",
    "    m2 = MaxPooling2D(64,(2,2),padding='same')(c2)\n",
    "    #Third Block \n",
    "    c3 = Conv2D(128,(4,4),activation='relu')(m2)\n",
    "    m3 = MaxPooling2D(64,(2,2),padding='same')(c3)\n",
    "    #Fourth Block\n",
    "    c4 = Conv2D(256,(4,4),activation='relu')(m2)\n",
    "    f1 = Flatten()(c4)\n",
    "    d1 = Dense(4096,activation = 'sigmoid')(f1)\n",
    "    return Model(inputs = [inp], outputs = [d1], name = 'embedding')\n"
   ]
  },
  {
   "cell_type": "code",
   "execution_count": 24,
   "id": "885b8222",
   "metadata": {},
   "outputs": [
    {
     "name": "stderr",
     "output_type": "stream",
     "text": [
      "2023-10-03 11:14:52.262101: W tensorflow/core/framework/cpu_allocator_impl.cc:80] Allocation of 1212153856 exceeds 10% of free system memory.\n",
      "2023-10-03 11:14:52.500629: W tensorflow/core/framework/cpu_allocator_impl.cc:80] Allocation of 1212153856 exceeds 10% of free system memory.\n",
      "2023-10-03 11:14:52.690974: W tensorflow/core/framework/cpu_allocator_impl.cc:80] Allocation of 1212153856 exceeds 10% of free system memory.\n"
     ]
    },
    {
     "name": "stdout",
     "output_type": "stream",
     "text": [
      "Model: \"embedding\"\n",
      "_________________________________________________________________\n",
      "Layer (type)                 Output Shape              Param #   \n",
      "=================================================================\n",
      "input_1 (InputLayer)         [(None, 100, 100, 3)]     0         \n",
      "_________________________________________________________________\n",
      "conv2d (Conv2D)              (None, 91, 91, 64)        19264     \n",
      "_________________________________________________________________\n",
      "max_pooling2d (MaxPooling2D) (None, 46, 46, 64)        0         \n",
      "_________________________________________________________________\n",
      "conv2d_1 (Conv2D)            (None, 40, 40, 128)       401536    \n",
      "_________________________________________________________________\n",
      "max_pooling2d_1 (MaxPooling2 (None, 20, 20, 128)       0         \n",
      "_________________________________________________________________\n",
      "conv2d_3 (Conv2D)            (None, 17, 17, 256)       524544    \n",
      "_________________________________________________________________\n",
      "flatten (Flatten)            (None, 73984)             0         \n",
      "_________________________________________________________________\n",
      "dense (Dense)                (None, 4096)              303042560 \n",
      "=================================================================\n",
      "Total params: 303,987,904\n",
      "Trainable params: 303,987,904\n",
      "Non-trainable params: 0\n",
      "_________________________________________________________________\n"
     ]
    }
   ],
   "source": [
    "embedding = make_embeddings()\n",
    "embedding.summary()"
   ]
  },
  {
   "cell_type": "markdown",
   "id": "5c430900",
   "metadata": {},
   "source": [
    "### Build your custom layer that denotes the L1 distance layer"
   ]
  },
  {
   "cell_type": "code",
   "execution_count": 26,
   "id": "bf78f02b",
   "metadata": {},
   "outputs": [],
   "source": [
    "class L1Dist(Layer):\n",
    "    def __init__(self, **kwargs):\n",
    "        super().__init__()\n",
    "        \n",
    "    def call(self,input_embedding, validation_embedding):\n",
    "        return tf.math.abs(input_embedding - validation_embedding)"
   ]
  },
  {
   "cell_type": "code",
   "execution_count": 27,
   "id": "30f297ff",
   "metadata": {},
   "outputs": [],
   "source": [
    "l1 = L1Dist()"
   ]
  },
  {
   "cell_type": "markdown",
   "id": "964b569f",
   "metadata": {},
   "source": [
    "### Make the Siamese Model"
   ]
  },
  {
   "cell_type": "code",
   "execution_count": 28,
   "id": "52602ee6",
   "metadata": {},
   "outputs": [],
   "source": [
    "def make_siamese_model():\n",
    "    input_img = Input(name = 'input', shape = (100,100,3))\n",
    "    validation_img = Input(name = 'validation_layer', shape = (100,100,3))\n",
    "    \n",
    "    siamese_layer = L1Dist()\n",
    "    siamese_layer._name = 'siamese_layer'\n",
    "    distances = siamese_layer(embedding(input_img), embedding(validation_img))\n",
    "    \n",
    "    classifier = Dense(1, activation = 'sigmoid')(distances)\n",
    "    return Model(inputs = [input_img,validation_img], outputs = classifier, name = 'SiameseNetwork')"
   ]
  },
  {
   "cell_type": "code",
   "execution_count": 29,
   "id": "9fe23b21",
   "metadata": {},
   "outputs": [],
   "source": [
    "siam_network = make_siamese_model()"
   ]
  },
  {
   "cell_type": "code",
   "execution_count": 30,
   "id": "fabc8219",
   "metadata": {},
   "outputs": [
    {
     "name": "stdout",
     "output_type": "stream",
     "text": [
      "Model: \"SiameseNetwork\"\n",
      "__________________________________________________________________________________________________\n",
      "Layer (type)                    Output Shape         Param #     Connected to                     \n",
      "==================================================================================================\n",
      "input (InputLayer)              [(None, 100, 100, 3) 0                                            \n",
      "__________________________________________________________________________________________________\n",
      "validation_layer (InputLayer)   [(None, 100, 100, 3) 0                                            \n",
      "__________________________________________________________________________________________________\n",
      "embedding (Functional)          (None, 4096)         303987904   input[0][0]                      \n",
      "                                                                 validation_layer[0][0]           \n",
      "__________________________________________________________________________________________________\n",
      "siamese_layer (L1Dist)          (None, 4096)         0           embedding[0][0]                  \n",
      "                                                                 embedding[1][0]                  \n",
      "__________________________________________________________________________________________________\n",
      "dense_1 (Dense)                 (None, 1)            4097        siamese_layer[0][0]              \n",
      "==================================================================================================\n",
      "Total params: 303,992,001\n",
      "Trainable params: 303,992,001\n",
      "Non-trainable params: 0\n",
      "__________________________________________________________________________________________________\n"
     ]
    }
   ],
   "source": [
    "siam_network.summary()"
   ]
  },
  {
   "cell_type": "markdown",
   "id": "31e68077",
   "metadata": {},
   "source": [
    "### Training"
   ]
  },
  {
   "cell_type": "markdown",
   "id": "2969871f",
   "metadata": {},
   "source": [
    "#### Setup Optimizer and Loss function"
   ]
  },
  {
   "cell_type": "code",
   "execution_count": 31,
   "id": "b4c18f7f",
   "metadata": {},
   "outputs": [
    {
     "data": {
      "text/plain": [
       "\"We Will be using Binary cross-entroy loss function which is commonly used for Binary classification based ML Models.\\nIt measures the difference between predicted and actual class labels using the following equation:\\nLoss(y, p) = -[y * log(p) + (1 - y) * log(1 - p)] | y is actual class label\\n\\nDuring the training process, machine learning algorithms or optimization techniques (e.g., gradient descent) adjust the model's parameters (e.g., weights and biases)\\nto minimize the Binary Cross-Entropy Loss. This process is how the model learns to make more accurate predictions for binary classification tasks.\""
      ]
     },
     "execution_count": 31,
     "metadata": {},
     "output_type": "execute_result"
    }
   ],
   "source": [
    "\"\"\"We Will be using Binary cross-entroy loss function which is commonly used for Binary classification based ML Models.\n",
    "It measures the difference between predicted and actual class labels using the following equation:\n",
    "Loss(y, p) = -[y * log(p) + (1 - y) * log(1 - p)] | y is actual class label\n",
    "\n",
    "During the training process, machine learning algorithms or optimization techniques (e.g., gradient descent) adjust the model's parameters (e.g., weights and biases)\n",
    "to minimize the Binary Cross-Entropy Loss. This process is how the model learns to make more accurate predictions for binary classification tasks.\"\"\""
   ]
  },
  {
   "cell_type": "code",
   "execution_count": 32,
   "id": "45f004c8",
   "metadata": {},
   "outputs": [],
   "source": [
    "binary_cross_entropy = tf.losses.BinaryCrossentropy()\n",
    "opt = tf.keras.optimizers.Adam(1e-4)"
   ]
  },
  {
   "cell_type": "markdown",
   "id": "ee84e366",
   "metadata": {},
   "source": [
    "#### Establish checkpoints"
   ]
  },
  {
   "cell_type": "markdown",
   "id": "eabfa0d9",
   "metadata": {},
   "source": [
    "\"\"\" To reload a model from the checkpoint, simply run\n",
    "    model.load(path_to_checkpoint) and this will load the pre trained weights into the existing model\"\"\""
   ]
  },
  {
   "cell_type": "code",
   "execution_count": 33,
   "id": "1e608ab8",
   "metadata": {},
   "outputs": [],
   "source": [
    "checkpoint_dir = './training_checkpoints'\n",
    "checkpoint_prefix = os.path.join(checkpoint_dir, 'ckpt') #prefix checkpoint with ckpt\n",
    "checkpoint = tf.train.Checkpoint(opt = opt, siam_network = siam_network)"
   ]
  },
  {
   "cell_type": "markdown",
   "id": "68d3a19e",
   "metadata": {},
   "source": [
    "#### Build a Train Step Function \n",
    "\n",
    "For each batch of data the basic flow of training is as follows \n",
    "1) Make Prediction\n",
    "2) Calculate Losses \n",
    "3) derive Gradient\n",
    "4) Calculate new weights and apply\n",
    "\n",
    "We will be coding this step such that we can run this train step function in a loop"
   ]
  },
  {
   "cell_type": "code",
   "execution_count": 39,
   "id": "2f12f49a",
   "metadata": {},
   "outputs": [
    {
     "data": {
      "text/plain": [
       "<PrefetchDataset shapes: ((None, 100, 100, None), (None, 100, 100, None), (None,)), types: (tf.float32, tf.float32, tf.float32)>"
      ]
     },
     "execution_count": 39,
     "metadata": {},
     "output_type": "execute_result"
    }
   ],
   "source": [
    "train_data"
   ]
  },
  {
   "cell_type": "code",
   "execution_count": 45,
   "id": "ab04a210",
   "metadata": {},
   "outputs": [],
   "source": [
    "@tf.function # Compiles a function into a callable TensorFlow graph. Compiles a network into a graph and call it efficiently\n",
    "def train_step(batch): #batch is one batch of data or one iterator of train data. One batch in our case is composed of 4 pos/neg and anchor each\n",
    "    \n",
    "    with tf.GradientTape() as tape: # We capture the operations and its results in the neural network\n",
    "        x = batch[:2] #anchor and positive\n",
    "        y = batch[2]# True Label\n",
    "\n",
    "        #Forward pass\n",
    "        y_pred = siam_network(x, training = True)\n",
    "        #loss\n",
    "        loss = binary_cross_entropy(y,y_pred)\n",
    "    \n",
    "    #calculate Gradients\n",
    "    grad = tape.gradient(loss, siam_network.trainable_variables) \n",
    "    \n",
    "    #Calculate updated weights and apply it to our siamese model\n",
    "    opt.apply_gradients(zip(grad, siam_network.trainable_variables))\n",
    "    \n",
    "    #Return loss\n",
    "    return loss\n"
   ]
  },
  {
   "cell_type": "code",
   "execution_count": 46,
   "id": "81311b6c",
   "metadata": {},
   "outputs": [],
   "source": [
    "def training_loop(train_data,EPOCHS):\n",
    "    #Loop through EPOCHS\n",
    "    for epoch in range(1,EPOCHS+1):\n",
    "        print('\\n Epoch {}/{}'.format(epoch,EPOCHS))\n",
    "        progbar = tf.keras.utils.Progbar(len(train_data))\n",
    "        #Loop through each batch\n",
    "        for idx, batch in enumerate(train_data):\n",
    "            train_step(batch)\n",
    "            progbar.update(idx+1)\n",
    "        #run train step here\n",
    "        \n",
    "        #save the training progress every 10 epochs\n",
    "        if epoch%10 == 0:\n",
    "            checkpoint.save(file_prefix=checkpoint_prefix)"
   ]
  },
  {
   "cell_type": "code",
   "execution_count": 47,
   "id": "c228f0f2",
   "metadata": {
    "scrolled": false
   },
   "outputs": [
    {
     "name": "stdout",
     "output_type": "stream",
     "text": [
      "\n",
      " Epoch 1/30\n"
     ]
    },
    {
     "name": "stderr",
     "output_type": "stream",
     "text": [
      "2023-09-30 12:59:14.571939: W tensorflow/core/framework/cpu_allocator_impl.cc:80] Allocation of 1212153856 exceeds 10% of free system memory.\n",
      "2023-09-30 12:59:14.636034: W tensorflow/core/framework/cpu_allocator_impl.cc:80] Allocation of 1212153856 exceeds 10% of free system memory.\n"
     ]
    },
    {
     "name": "stdout",
     "output_type": "stream",
     "text": [
      "14/14 [==============================] - 44s 3s/step\n",
      "\n",
      " Epoch 2/30\n",
      "14/14 [==============================] - 42s 3s/step\n",
      "\n",
      " Epoch 3/30\n",
      "14/14 [==============================] - 40s 3s/step\n",
      "\n",
      " Epoch 4/30\n",
      "14/14 [==============================] - 41s 3s/step\n",
      "\n",
      " Epoch 5/30\n",
      "14/14 [==============================] - 41s 3s/step\n",
      "\n",
      " Epoch 6/30\n",
      "14/14 [==============================] - 40s 3s/step\n",
      "\n",
      " Epoch 7/30\n",
      "14/14 [==============================] - 41s 3s/step\n",
      "\n",
      " Epoch 8/30\n",
      "14/14 [==============================] - 40s 3s/step\n",
      "\n",
      " Epoch 9/30\n",
      "14/14 [==============================] - 41s 3s/step\n",
      "\n",
      " Epoch 10/30\n",
      "14/14 [==============================] - 40s 3s/step\n",
      "\n",
      " Epoch 11/30\n",
      "14/14 [==============================] - 43s 3s/step\n",
      "\n",
      " Epoch 12/30\n",
      "14/14 [==============================] - 41s 3s/step\n",
      "\n",
      " Epoch 13/30\n",
      "14/14 [==============================] - 41s 3s/step\n",
      "\n",
      " Epoch 14/30\n",
      "14/14 [==============================] - 41s 3s/step\n",
      "\n",
      " Epoch 15/30\n",
      "14/14 [==============================] - 41s 3s/step\n",
      "\n",
      " Epoch 16/30\n",
      "14/14 [==============================] - 41s 3s/step\n",
      "\n",
      " Epoch 17/30\n",
      "14/14 [==============================] - 41s 3s/step\n",
      "\n",
      " Epoch 18/30\n",
      "14/14 [==============================] - 41s 3s/step\n",
      "\n",
      " Epoch 19/30\n",
      "14/14 [==============================] - 41s 3s/step\n",
      "\n",
      " Epoch 20/30\n",
      "14/14 [==============================] - 41s 3s/step\n",
      "\n",
      " Epoch 21/30\n",
      "14/14 [==============================] - 41s 3s/step\n",
      "\n",
      " Epoch 22/30\n",
      "14/14 [==============================] - 41s 3s/step\n",
      "\n",
      " Epoch 23/30\n",
      "14/14 [==============================] - 40s 3s/step\n",
      "\n",
      " Epoch 24/30\n",
      "14/14 [==============================] - 41s 3s/step\n",
      "\n",
      " Epoch 25/30\n",
      "14/14 [==============================] - 41s 3s/step\n",
      "\n",
      " Epoch 26/30\n",
      "14/14 [==============================] - 41s 3s/step\n",
      "\n",
      " Epoch 27/30\n",
      "14/14 [==============================] - 40s 3s/step\n",
      "\n",
      " Epoch 28/30\n",
      "14/14 [==============================] - 41s 3s/step\n",
      "\n",
      " Epoch 29/30\n",
      "14/14 [==============================] - 41s 3s/step\n",
      "\n",
      " Epoch 30/30\n",
      "14/14 [==============================] - 41s 3s/step\n"
     ]
    }
   ],
   "source": [
    "EPOCHS = 30\n",
    "training_loop(train_data,EPOCHS)"
   ]
  },
  {
   "cell_type": "code",
   "execution_count": 49,
   "id": "4f557ad5",
   "metadata": {},
   "outputs": [
    {
     "name": "stdout",
     "output_type": "stream",
     "text": [
      "checkpoint\t\t    ckpt-2.data-00000-of-00001\tckpt-3.index\r\n",
      "ckpt-1.data-00000-of-00001  ckpt-2.index\r\n",
      "ckpt-1.index\t\t    ckpt-3.data-00000-of-00001\r\n"
     ]
    }
   ],
   "source": [
    "!ls training_checkpoints/\n"
   ]
  },
  {
   "cell_type": "markdown",
   "id": "a92b70d5",
   "metadata": {},
   "source": [
    "### Model Evaluation\n",
    "\n",
    "We will be using Precision and Recall \n",
    "\n",
    "Precision denotes what propotion of positive identifications (approvals) were actually correct \n",
    "\n",
    "Recall shows what propotion of actual positives were identified correctly. \n",
    "\n",
    "Precision= TP/(TP+FP)\n",
    "Recall= TP/(TP+FN)\n",
    "\n",
    "\n",
    "In many contexts, there's a trade-off between precision and recall. Improving recall may decrease precision and vice-versa. This trade-off is often visualized using a Precision-Recall curve. The F1 score is a metric that combines both precision and recall into a single number, providing a balance between the two:\n"
   ]
  },
  {
   "cell_type": "code",
   "execution_count": 73,
   "id": "39d875f2",
   "metadata": {},
   "outputs": [],
   "source": [
    "# Point to the directory or prefix where the checkpoints are saved\n",
    "checkpoint_manager = tf.train.CheckpointManager(checkpoint, directory=\"./training_checkpoints/\", max_to_keep=5)"
   ]
  },
  {
   "cell_type": "code",
   "execution_count": 74,
   "id": "1e88ab97",
   "metadata": {},
   "outputs": [
    {
     "data": {
      "text/plain": [
       "<tensorflow.python.training.tracking.util.CheckpointLoadStatus at 0x7f84efbd0490>"
      ]
     },
     "execution_count": 74,
     "metadata": {},
     "output_type": "execute_result"
    }
   ],
   "source": [
    "checkpoint.restore(checkpoint_manager.latest_checkpoint)"
   ]
  },
  {
   "cell_type": "code",
   "execution_count": 75,
   "id": "550fc4bb",
   "metadata": {},
   "outputs": [],
   "source": [
    "# import precision and recall \n",
    "from tensorflow.keras.metrics import Precision, Recall"
   ]
  },
  {
   "cell_type": "code",
   "execution_count": 76,
   "id": "2e6e87a3",
   "metadata": {},
   "outputs": [],
   "source": [
    "test_data = data.skip(round(len(data)*0.7))\n",
    "test_data = test_data.take(round(len(data)*0.3))\n",
    "test_data  = test_data.batch(4)\n",
    "test_data = test_data.prefetch(2)\n",
    "test_data = test_data.as_numpy_iterator()"
   ]
  },
  {
   "cell_type": "code",
   "execution_count": 97,
   "id": "44c185c0",
   "metadata": {},
   "outputs": [],
   "source": [
    "test_input, test_val, y_true = test_data.next()"
   ]
  },
  {
   "cell_type": "code",
   "execution_count": 98,
   "id": "858377e6",
   "metadata": {},
   "outputs": [
    {
     "data": {
      "text/plain": [
       "array([0., 0., 1., 1.], dtype=float32)"
      ]
     },
     "execution_count": 98,
     "metadata": {},
     "output_type": "execute_result"
    }
   ],
   "source": [
    "y_true"
   ]
  },
  {
   "cell_type": "code",
   "execution_count": 99,
   "id": "45381018",
   "metadata": {},
   "outputs": [],
   "source": [
    "y_pred = siam_network.predict([test_input, test_val])"
   ]
  },
  {
   "cell_type": "code",
   "execution_count": 100,
   "id": "2084f8ff",
   "metadata": {},
   "outputs": [
    {
     "data": {
      "text/plain": [
       "array([[7.1174867e-08],\n",
       "       [4.7745621e-09],\n",
       "       [9.9577117e-01],\n",
       "       [1.0000000e+00]], dtype=float32)"
      ]
     },
     "execution_count": 100,
     "metadata": {},
     "output_type": "execute_result"
    }
   ],
   "source": [
    "y_pred"
   ]
  },
  {
   "cell_type": "code",
   "execution_count": 101,
   "id": "1d95ade2",
   "metadata": {},
   "outputs": [
    {
     "data": {
      "text/plain": [
       "[0, 0, 1, 1]"
      ]
     },
     "execution_count": 101,
     "metadata": {},
     "output_type": "execute_result"
    }
   ],
   "source": [
    "#post_processing results \n",
    "threshold = 0.5\n",
    "[1 if prediction > 0.5 else 0 for prediction in y_pred]"
   ]
  },
  {
   "cell_type": "code",
   "execution_count": 96,
   "id": "da97555b",
   "metadata": {},
   "outputs": [
    {
     "data": {
      "text/plain": [
       "1.0"
      ]
     },
     "execution_count": 96,
     "metadata": {},
     "output_type": "execute_result"
    }
   ],
   "source": [
    "#Using the Recall metric \n",
    "recall_metric_obj = Recall()\n",
    "recall_metric_obj.update_state(y_true, y_pred)\n",
    "recall_metric_obj.result().numpy()"
   ]
  },
  {
   "cell_type": "code",
   "execution_count": 102,
   "id": "20c7b0e3",
   "metadata": {},
   "outputs": [
    {
     "data": {
      "text/plain": [
       "1.0"
      ]
     },
     "execution_count": 102,
     "metadata": {},
     "output_type": "execute_result"
    }
   ],
   "source": [
    "#Using the Recall metric \n",
    "prec_metric_obj = Precision()\n",
    "prec_metric_obj.update_state(y_true, y_pred)\n",
    "prec_metric_obj.result().numpy()"
   ]
  },
  {
   "cell_type": "markdown",
   "id": "651a1343",
   "metadata": {},
   "source": [
    "### Save Model"
   ]
  },
  {
   "cell_type": "code",
   "execution_count": null,
   "id": "c6ef36e8",
   "metadata": {},
   "outputs": [],
   "source": [
    "siam_network.save('siamese_network.h5')"
   ]
  },
  {
   "cell_type": "code",
   "execution_count": null,
   "id": "fd6e7d86",
   "metadata": {},
   "outputs": [],
   "source": []
  }
 ],
 "metadata": {
  "kernelspec": {
   "display_name": "face_rec",
   "language": "python",
   "name": "face_rec"
  },
  "language_info": {
   "codemirror_mode": {
    "name": "ipython",
    "version": 3
   },
   "file_extension": ".py",
   "mimetype": "text/x-python",
   "name": "python",
   "nbconvert_exporter": "python",
   "pygments_lexer": "ipython3",
   "version": "3.8.10"
  }
 },
 "nbformat": 4,
 "nbformat_minor": 5
}
